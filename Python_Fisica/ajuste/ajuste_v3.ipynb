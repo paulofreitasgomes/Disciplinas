{
 "cells": [
  {
   "cell_type": "markdown",
   "metadata": {},
   "source": [
    "# Ajuste de Funções"
   ]
  },
  {
   "cell_type": "markdown",
   "metadata": {},
   "source": [
    "Função a ser ajusta: reta $y = ax+b$. Parâmetros a serem obtidos: $a=$ coeficiente angular e $b=$ coeficiente linear."
   ]
  },
  {
   "cell_type": "code",
   "execution_count": 13,
   "metadata": {},
   "outputs": [],
   "source": [
    "import numpy as np\n",
    "import matplotlib.pyplot as plt\n",
    "from scipy.optimize import curve_fit #funcao a ser usada para fazer o ajuste\n",
    "import random #gerador de numeros aleatorios"
   ]
  },
  {
   "cell_type": "markdown",
   "metadata": {},
   "source": [
    "Como nosso objetivo é aprender o método, vamos gerar os dados a serem ajustados. Para isso escolhemos os seguintes parâmetros de uma reta."
   ]
  },
  {
   "cell_type": "code",
   "execution_count": 2,
   "metadata": {},
   "outputs": [],
   "source": [
    "a = 5 #coeficiente angular\n",
    "b = 10 #coeficiente linear"
   ]
  },
  {
   "cell_type": "code",
   "execution_count": 3,
   "metadata": {},
   "outputs": [],
   "source": [
    "x = np.arange(10) #vetor com 10 componentes\n",
    "y = a*x+b #vetor cuja cada componente e a operacao em questao"
   ]
  },
  {
   "cell_type": "code",
   "execution_count": 4,
   "metadata": {},
   "outputs": [
    {
     "data": {
      "text/plain": [
       "array([0, 1, 2, 3, 4, 5, 6, 7, 8, 9])"
      ]
     },
     "execution_count": 4,
     "metadata": {},
     "output_type": "execute_result"
    }
   ],
   "source": [
    "x #mostrando os valores gerados"
   ]
  },
  {
   "cell_type": "code",
   "execution_count": 5,
   "metadata": {},
   "outputs": [
    {
     "data": {
      "text/plain": [
       "array([10, 15, 20, 25, 30, 35, 40, 45, 50, 55])"
      ]
     },
     "execution_count": 5,
     "metadata": {},
     "output_type": "execute_result"
    }
   ],
   "source": [
    "y"
   ]
  },
  {
   "cell_type": "markdown",
   "metadata": {},
   "source": [
    "Sempre é importante visualizar as variáveis criadas. No caso fazemos um gráfico."
   ]
  },
  {
   "cell_type": "code",
   "execution_count": 7,
   "metadata": {},
   "outputs": [
    {
     "data": {
      "image/png": "[encoded data removed]",
      "text/plain": [
       "<Figure size 432x288 with 1 Axes>"
      ]
     },
     "metadata": {
      "needs_background": "light"
     },
     "output_type": "display_data"
    }
   ],
   "source": [
    "plt.plot(x,y,'ob',ms = 5,label = 'dados') \n",
    "#'ob' significa que os marcadores serao circulo\n",
    "#e a cor sera azul (de blue)\n",
    "plt.xlabel('x',fontsize = 16)\n",
    "plt.ylabel('y',fontsize = 16)\n",
    "#plt.title(titulo,fontsize=14)\n",
    "plt.grid(True)\n",
    "plt.legend(loc='lower right',fontsize = 16,frameon = False)\n",
    "plt.yticks(size=16)\n",
    "plt.xticks(size=16)\n",
    "axes = plt.gca()\n",
    "#axes.set_xlim([0.16,0.17])\n",
    "#axes.set_ylim([1e-3,5e-2])\n",
    "plt.savefig('figura1.png',dpi = 300, bbox_inches='tight')\n",
    "plt.show()\n",
    "plt.close()"
   ]
  },
  {
   "cell_type": "markdown",
   "metadata": {},
   "source": [
    "A função que usaremos para ajuste curve_fit necessita da função a ser ajustada como sendo um parâmetro. Por isso criamos a função que gera uma reta."
   ]
  },
  {
   "cell_type": "code",
   "execution_count": 9,
   "metadata": {},
   "outputs": [],
   "source": [
    "def cria_reta(x,a,b):\n",
    "    return x*a+b"
   ]
  },
  {
   "cell_type": "markdown",
   "metadata": {},
   "source": [
    "Para fazer o ajuste precisamos definir um chute, que é um valor inicial dos parâmetros desejados. Como criamos os dados a serem ajustados, escolhemos valores próximos aos usados."
   ]
  },
  {
   "cell_type": "code",
   "execution_count": 10,
   "metadata": {},
   "outputs": [],
   "source": [
    "chute = [6,11]\n",
    "parametros, erros = curve_fit(cria_reta, x, y, chute)"
   ]
  },
  {
   "cell_type": "markdown",
   "metadata": {},
   "source": [
    "Os valores ajustados dos parâmetros são os elementos da matriz:"
   ]
  },
  {
   "cell_type": "code",
   "execution_count": 11,
   "metadata": {},
   "outputs": [
    {
     "data": {
      "text/plain": [
       "array([ 5., 10.])"
      ]
     },
     "execution_count": 11,
     "metadata": {},
     "output_type": "execute_result"
    }
   ],
   "source": [
    "parametros"
   ]
  },
  {
   "cell_type": "markdown",
   "metadata": {},
   "source": [
    "Já os erros são os elementos da diagonal da matriz:"
   ]
  },
  {
   "cell_type": "code",
   "execution_count": 12,
   "metadata": {},
   "outputs": [
    {
     "data": {
      "text/plain": [
       "array([[ 0., -0.],\n",
       "       [-0.,  0.]])"
      ]
     },
     "execution_count": 12,
     "metadata": {},
     "output_type": "execute_result"
    }
   ],
   "source": [
    "erros"
   ]
  },
  {
   "cell_type": "markdown",
   "metadata": {},
   "source": [
    "Agora vamos complicar a situação pela adição de um ruído nos dados gerados. Assim os dados não serão exatamente uma reta."
   ]
  },
  {
   "cell_type": "code",
   "execution_count": 14,
   "metadata": {},
   "outputs": [],
   "source": [
    "nx = len(x)\n",
    "am = 5\n",
    "y2 = np.zeros(nx)\n",
    "for i1 in range(nx):\n",
    "    y2[i1] = a*x[i1]+b+am*(2*random.random()-1)"
   ]
  },
  {
   "cell_type": "markdown",
   "metadata": {},
   "source": [
    "O ruído é gerado por um número aleatório. random.random() é um número aleatório entre 0 e 1, enquanto que (2*random.random()-1) é um número aleatório entre -1 e 1. Assim o ruído é aleatório com uma amplitude amp em torno da reta $ax+b$."
   ]
  },
  {
   "cell_type": "code",
   "execution_count": 16,
   "metadata": {},
   "outputs": [
    {
     "data": {
      "image/png": "[encoded data removed]",
      "text/plain": [
       "<Figure size 432x288 with 1 Axes>"
      ]
     },
     "metadata": {
      "needs_background": "light"
     },
     "output_type": "display_data"
    }
   ],
   "source": [
    "plt.plot(x,y2,'ob',ms = 5,label = 'dados+ruido')\n",
    "plt.xlabel('x',fontsize = 16)\n",
    "plt.ylabel('y_2',fontsize = 16)\n",
    "#plt.title(titulo,fontsize=14)\n",
    "plt.grid(True)\n",
    "#plt.legend(loc='lower right',fontsize = 16,frameon = False)\n",
    "plt.yticks(size=16)\n",
    "plt.xticks(size=16)\n",
    "axes = plt.gca()\n",
    "#axes.set_xlim([0.16,0.17])\n",
    "#axes.set_ylim([1e-3,5e-2])\n",
    "plt.savefig('figura2.png',dpi = 300, bbox_inches='tight')\n",
    "plt.show()\n",
    "plt.close()"
   ]
  },
  {
   "cell_type": "markdown",
   "metadata": {},
   "source": [
    "Fazendo o ajuste para a nova função: reta $+$ ruído."
   ]
  },
  {
   "cell_type": "code",
   "execution_count": 20,
   "metadata": {},
   "outputs": [],
   "source": [
    "pa, erros = curve_fit(cria_reta, x, y2, [3,15])"
   ]
  },
  {
   "cell_type": "markdown",
   "metadata": {},
   "source": [
    "Os parâmetros obtidos são:"
   ]
  },
  {
   "cell_type": "code",
   "execution_count": 21,
   "metadata": {},
   "outputs": [
    {
     "data": {
      "text/plain": [
       "array([ 4.59629484, 12.23573448])"
      ]
     },
     "execution_count": 21,
     "metadata": {},
     "output_type": "execute_result"
    }
   ],
   "source": [
    "pa"
   ]
  },
  {
   "cell_type": "markdown",
   "metadata": {},
   "source": [
    "Veja que agora o coeficiente angular não é 5.0, e sim 4.59..., por influência do ruído acrescentado. Os erros também são maiores que zero também (elementos da diagonal)."
   ]
  },
  {
   "cell_type": "code",
   "execution_count": 19,
   "metadata": {},
   "outputs": [
    {
     "data": {
      "text/plain": [
       "array([[ 0.10826418, -0.48718879],\n",
       "       [-0.48718879,  3.08552899]])"
      ]
     },
     "execution_count": 19,
     "metadata": {},
     "output_type": "execute_result"
    }
   ],
   "source": [
    "erros"
   ]
  },
  {
   "cell_type": "markdown",
   "metadata": {},
   "source": [
    "Vamos fazer o gráfico com a função ajustada com ruído. Primeiro criamos o vetor $y$ com os parâmetros obtidos. Veja que utilizo a mesma função."
   ]
  },
  {
   "cell_type": "code",
   "execution_count": 22,
   "metadata": {},
   "outputs": [],
   "source": [
    "y3 = cria_reta(x,pa[0],pa[1])"
   ]
  },
  {
   "cell_type": "code",
   "execution_count": 24,
   "metadata": {},
   "outputs": [
    {
     "data": {
      "image/png": "[encoded data removed]",
      "text/plain": [
       "<Figure size 432x288 with 1 Axes>"
      ]
     },
     "metadata": {
      "needs_background": "light"
     },
     "output_type": "display_data"
    }
   ],
   "source": [
    "plt.plot(x,y2,'ob',ms = 5,label = 'dados+ruido')\n",
    "plt.plot(x,y3,'-r',lw = 1.5,label = 'ajuste')\n",
    "plt.xlabel('x',fontsize = 16)\n",
    "plt.ylabel('y',fontsize = 16)\n",
    "plt.title('Ajuste linear',fontsize=14)\n",
    "plt.grid(True)\n",
    "#plt.legend(loc='lower right',fontsize = 16,frameon = False)\n",
    "plt.yticks(size=16)\n",
    "plt.xticks(size=16)\n",
    "axes = plt.gca()\n",
    "axes.set_xlim([0,9])\n",
    "#axes.set_ylim([1e-3,5e-2])\n",
    "plt.savefig('figura3.png',dpi = 300, bbox_inches='tight')\n",
    "plt.show()\n",
    "plt.close()"
   ]
  },
  {
   "cell_type": "markdown",
   "metadata": {},
   "source": [
    "É nítido agora a influência do ruído, criando um desvio entre a reta ajustada e os dados."
   ]
  }
 ],
 "metadata": {
  "kernelspec": {
   "display_name": "Python 3",
   "language": "python",
   "name": "python3"
  },
  "language_info": {
   "codemirror_mode": {
    "name": "ipython",
    "version": 3
   },
   "file_extension": ".py",
   "mimetype": "text/x-python",
   "name": "python",
   "nbconvert_exporter": "python",
   "pygments_lexer": "ipython3",
   "version": "3.7.0"
  }
 },
 "nbformat": 4,
 "nbformat_minor": 2
}
