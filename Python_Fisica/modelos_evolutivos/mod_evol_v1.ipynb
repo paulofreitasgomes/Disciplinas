{
 "cells": [
  {
   "cell_type": "markdown",
   "metadata": {},
   "source": [
    "# Eficiência em Processos Cooperativos"
   ]
  },
  {
   "cell_type": "markdown",
   "metadata": {},
   "source": [
    "Neste projeto, estudamos a eficiência de um grupo de agentes (pessoas) em resolver um dado problema. A ideia é avaliar o que é melhor: cada pessoa resolver o problema separadamente ou as pessoas conversarem entre si. Para isso calculamos o tempo necessário para o primeiro agente resolver o problema. "
   ]
  },
  {
   "cell_type": "code",
   "execution_count": 3,
   "metadata": {},
   "outputs": [],
   "source": [
    "import numpy as np"
   ]
  },
  {
   "cell_type": "markdown",
   "metadata": {},
   "source": [
    "M = número de pessoas do grupo. N = número de bits de cada pessoa. Cada pessoa tem um vetor binário de N componentes formados por 0 ou 1."
   ]
  },
  {
   "cell_type": "code",
   "execution_count": 4,
   "metadata": {},
   "outputs": [],
   "source": [
    "def cria_estado_inicial(M,N):\n",
    "    lista = []\n",
    "    for i1 in range(M):\n",
    "        phi = np.random.randint(low = 0, high = 2, size = N)\n",
    "        lista.append(phi)\n",
    "    return lista"
   ]
  },
  {
   "cell_type": "markdown",
   "metadata": {},
   "source": [
    "Ao longo da evolução temporal cada pessoa pode sofrer mutação com uma probabilidade $p$, na qual um bit aleatório é alterado. Adicionalmente com probabilidade $1-p$ cada agente pode copiar um bit diferente de um outro agente desde q esse tenha uma fitness melhor."
   ]
  },
  {
   "cell_type": "code",
   "execution_count": 5,
   "metadata": {},
   "outputs": [],
   "source": [
    "def mutacao(lista,ag,N):\n",
    "    rn = np.random.randint(low = 0, high = N, size = 1)\n",
    "    if lista[ag][rn] == 1:\n",
    "        lista[ag][rn] = 0\n",
    "    else:\n",
    "        lista[ag][rn] = 1\n",
    "    return lista\n",
    "        "
   ]
  },
  {
   "cell_type": "code",
   "execution_count": 6,
   "metadata": {},
   "outputs": [],
   "source": [
    "def interacao(lista,ag1,ag2,M,N):\n",
    "    lista2 = []\n",
    "    for i1 in range(N):\n",
    "        if lista[ag1][i1] != lista[ag2][i1]:\n",
    "            lista2.append(i1)\n",
    "    nid = len(lista2)\n",
    "    if nid > 0:\n",
    "        rn = int(nid*np.random.random())\n",
    "        if lista[ag1][rn] == 1:\n",
    "            lista[ag1][rn] = 0\n",
    "        else:\n",
    "            lista[ag1][rn] = 1\n",
    "    return lista\n",
    "    "
   ]
  },
  {
   "cell_type": "markdown",
   "metadata": {},
   "source": [
    "A fitnnes, ou métrica, é definida como sendo o número de bits iguais a 1 no vetor do agente."
   ]
  },
  {
   "cell_type": "code",
   "execution_count": 7,
   "metadata": {},
   "outputs": [],
   "source": [
    "def calc_metrica(lista,ag,N):\n",
    "    soma = 0\n",
    "    for i1 in range(N):\n",
    "        soma += lista[ag][i1]\n",
    "    return soma\n",
    "    "
   ]
  },
  {
   "cell_type": "markdown",
   "metadata": {},
   "source": [
    "Função que avalia se algum agente encontrou a solução, que é chegar na fitness máxima."
   ]
  },
  {
   "cell_type": "code",
   "execution_count": 8,
   "metadata": {},
   "outputs": [],
   "source": [
    "def avalia(lista):\n",
    "    flag = False\n",
    "    M = len(lista)\n",
    "    N = len(lista[0])\n",
    "    for i1 in range(M):\n",
    "        fit = calc_metrica(lista,i1,N)\n",
    "        if fit == N:\n",
    "            flag = True\n",
    "            break\n",
    "    return flag\n",
    "        "
   ]
  },
  {
   "cell_type": "markdown",
   "metadata": {},
   "source": [
    "Parâmetros iniciais."
   ]
  },
  {
   "cell_type": "code",
   "execution_count": 15,
   "metadata": {},
   "outputs": [],
   "source": [
    "M = 20\n",
    "N = 10\n",
    "p = 0.5\n",
    "lista_phi = cria_estado_inicial(M,N)"
   ]
  },
  {
   "cell_type": "code",
   "execution_count": 16,
   "metadata": {},
   "outputs": [
    {
     "name": "stdout",
     "output_type": "stream",
     "text": [
      "agente  0 : [1 1 0 1 0 1 0 1 1 1]\n",
      "agente  1 : [1 1 0 1 0 1 1 1 1 1]\n",
      "agente  2 : [0 0 1 0 0 1 0 0 1 1]\n",
      "agente  3 : [1 1 1 0 0 0 0 1 0 1]\n",
      "agente  4 : [0 1 0 1 0 0 0 0 1 1]\n",
      "agente  5 : [1 0 0 1 1 0 1 1 1 1]\n",
      "agente  6 : [1 0 1 0 0 1 1 1 0 0]\n",
      "agente  7 : [0 1 0 0 0 1 0 1 0 1]\n",
      "agente  8 : [1 0 1 1 1 0 1 0 1 0]\n",
      "agente  9 : [1 1 1 1 0 0 0 1 1 0]\n",
      "agente  10 : [1 0 0 0 1 0 1 1 1 0]\n",
      "agente  11 : [0 0 0 1 1 1 1 0 1 1]\n",
      "agente  12 : [1 0 1 1 1 1 0 0 0 0]\n",
      "agente  13 : [1 0 1 0 1 1 0 1 1 1]\n",
      "agente  14 : [0 1 1 1 1 0 0 1 0 0]\n",
      "agente  15 : [1 1 1 0 1 1 1 1 1 0]\n",
      "agente  16 : [1 1 0 1 0 1 0 0 1 1]\n",
      "agente  17 : [1 0 1 0 1 1 1 1 0 1]\n",
      "agente  18 : [1 1 0 1 1 1 0 1 1 0]\n",
      "agente  19 : [0 0 1 0 1 1 0 1 0 1]\n"
     ]
    }
   ],
   "source": [
    "for i1 in range(M):\n",
    "    print('agente ',i1,':',lista_phi[i1])"
   ]
  },
  {
   "cell_type": "markdown",
   "metadata": {},
   "source": [
    "Cálculo do tempo para alguém encontrar a solução."
   ]
  },
  {
   "cell_type": "code",
   "execution_count": 17,
   "metadata": {},
   "outputs": [
    {
     "name": "stdout",
     "output_type": "stream",
     "text": [
      "30\n"
     ]
    }
   ],
   "source": [
    "lista_phi = cria_estado_inicial(M,N)\n",
    "flag = False\n",
    "tempo = 0\n",
    "while not flag:\n",
    "    flag = avalia(lista_phi)\n",
    "    tempo += 1\n",
    "    for i1 in range(M):\n",
    "        ag0 = int(M*np.random.random()) #agente aleatorio\n",
    "        rn = np.random.random() #numero aleatorio entre 0 e 1\n",
    "        if rn < p:\n",
    "            #ele vai sofrer mutacao\n",
    "            lista_phi = mutacao(lista_phi,ag0,N)\n",
    "        else:\n",
    "            ag2 = int(M*np.random.random()) #agente a ser copiado\n",
    "            fit0 = calc_metrica(lista_phi,ag0,N)\n",
    "            fit2 = calc_metrica(lista_phi,ag2,N)\n",
    "            if fit2 > fit0: lista_phi = interacao(lista_phi,ag0,ag2,M,N)    \n",
    "\n",
    "print(tempo)"
   ]
  },
  {
   "cell_type": "markdown",
   "metadata": {},
   "source": [
    "Como este modelo é probabilístico, é necessário calcular o tempo de solução várias vezes então tirar a média."
   ]
  },
  {
   "cell_type": "code",
   "execution_count": 20,
   "metadata": {},
   "outputs": [
    {
     "name": "stdout",
     "output_type": "stream",
     "text": [
      "92.99\n"
     ]
    }
   ],
   "source": [
    "media_tempo = 0.0\n",
    "S = 100\n",
    "for i2 in range(S):\n",
    "    lista_phi = cria_estado_inicial(M,N)\n",
    "    flag = False\n",
    "    tempo = 0\n",
    "    while not flag:\n",
    "        flag = avalia(lista_phi)\n",
    "        tempo += 1\n",
    "        for i1 in range(M):\n",
    "            ag0 = int(M*np.random.random()) #agente aleatorio\n",
    "            rn = np.random.random() #numero aleatorio entre 0 e 1\n",
    "            if rn < p:\n",
    "                #ele vai sofrer mutacao\n",
    "                lista_phi = mutacao(lista_phi,ag0,N)\n",
    "            else:\n",
    "                ag2 = int(M*np.random.random()) #agente a ser copiado\n",
    "                fit0 = calc_metrica(lista_phi,ag0,N)\n",
    "                fit2 = calc_metrica(lista_phi,ag2,N)\n",
    "                if fit2 > fit0: lista_phi = interacao(lista_phi,ag0,ag2,M,N)    \n",
    "    media_tempo += tempo\n",
    "media_tempo = media_tempo / S\n",
    "print(media_tempo)"
   ]
  },
  {
   "cell_type": "code",
   "execution_count": 18,
   "metadata": {},
   "outputs": [
    {
     "name": "stdout",
     "output_type": "stream",
     "text": [
      "agente  0 : [1 0 0 0 0 0 1 0 1 0]\n",
      "agente  1 : [1 1 1 1 1 1 1 1 1 1]\n",
      "agente  2 : [1 1 1 0 1 1 0 1 0 0]\n",
      "agente  3 : [0 0 1 0 1 0 1 0 0 0]\n",
      "agente  4 : [1 1 1 1 1 1 0 0 0 0]\n",
      "agente  5 : [1 1 1 1 1 0 0 0 0 0]\n",
      "agente  6 : [0 0 1 0 1 0 0 1 0 1]\n",
      "agente  7 : [0 1 0 0 0 0 1 0 1 1]\n",
      "agente  8 : [0 1 1 1 0 1 1 1 0 0]\n",
      "agente  9 : [0 1 1 1 0 0 0 0 0 0]\n",
      "agente  10 : [1 0 0 0 0 0 1 1 0 0]\n",
      "agente  11 : [1 1 0 1 0 1 0 0 1 1]\n",
      "agente  12 : [1 1 0 1 1 0 0 0 0 0]\n",
      "agente  13 : [0 0 1 0 0 0 1 1 0 1]\n",
      "agente  14 : [1 0 1 0 1 0 1 1 1 0]\n",
      "agente  15 : [1 1 1 0 0 1 1 0 0 1]\n",
      "agente  16 : [1 0 1 0 1 1 0 0 0 0]\n",
      "agente  17 : [0 0 0 0 1 0 1 1 0 0]\n",
      "agente  18 : [1 0 1 0 1 0 0 1 0 0]\n",
      "agente  19 : [1 1 0 1 1 0 0 0 1 1]\n"
     ]
    }
   ],
   "source": [
    "for i1 in range(M):\n",
    "    print('agente ',i1,':',lista_phi[i1])"
   ]
  },
  {
   "cell_type": "markdown",
   "metadata": {},
   "source": [
    "Repare que o agente 1 encontrou a solução."
   ]
  }
 ],
 "metadata": {
  "kernelspec": {
   "display_name": "Python 3",
   "language": "python",
   "name": "python3"
  },
  "language_info": {
   "codemirror_mode": {
    "name": "ipython",
    "version": 3
   },
   "file_extension": ".py",
   "mimetype": "text/x-python",
   "name": "python",
   "nbconvert_exporter": "python",
   "pygments_lexer": "ipython3",
   "version": "3.7.3"
  }
 },
 "nbformat": 4,
 "nbformat_minor": 2
}
