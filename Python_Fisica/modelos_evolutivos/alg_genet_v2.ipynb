{
 "cells": [
  {
   "cell_type": "markdown",
   "metadata": {},
   "source": [
    "# Algoritmo Genético"
   ]
  },
  {
   "cell_type": "markdown",
   "metadata": {},
   "source": [
    "## Funções"
   ]
  },
  {
   "cell_type": "code",
   "execution_count": 1,
   "metadata": {},
   "outputs": [],
   "source": [
    "import numpy as np"
   ]
  },
  {
   "cell_type": "code",
   "execution_count": 2,
   "metadata": {},
   "outputs": [],
   "source": [
    "def cria_cond_inicial(M,N):\n",
    "    lista = [] #lista contendo as strings de todos os agentes\n",
    "    for i1 in range(M):\n",
    "        phi = np.random.randint(low=0, high=2, size=N)\n",
    "        lista.append(phi)\n",
    "    return lista    "
   ]
  },
  {
   "cell_type": "markdown",
   "metadata": {},
   "source": [
    "Função que implementa uma mutação em um bit aleatório do agente ag."
   ]
  },
  {
   "cell_type": "code",
   "execution_count": 3,
   "metadata": {},
   "outputs": [],
   "source": [
    "def mutacao(lista,ag):\n",
    "    N = len(lista[ag]) #numero de bits da string\n",
    "    b = int(N*np.random.random()) #bit aleatorio\n",
    "    if lista[ag][b] == 1:\n",
    "        lista[ag][b] = 0\n",
    "    else:\n",
    "        lista[ag][b] = 1\n",
    "    return lista\n",
    "        \n",
    "    "
   ]
  },
  {
   "cell_type": "markdown",
   "metadata": {},
   "source": [
    "Função que implementa a interação entre dois agentes ag1 e ag2."
   ]
  },
  {
   "cell_type": "code",
   "execution_count": 23,
   "metadata": {},
   "outputs": [],
   "source": [
    "def crossing_over(lista,ag1,ag2):\n",
    "    N = len(lista[ag1])\n",
    "    lista2 = [] #guarda os indices dos bits diferentes entre os dois agentes\n",
    "    flag = False\n",
    "    for i1 in range(N):\n",
    "        if lista[ag1][i1] != lista[ag2][i1]: \n",
    "            lista2.append(i1)\n",
    "            flag = True\n",
    "    nbd = len(lista2) #numero de bits diferentes entre ag1 e ag2\n",
    "    if flag: \n",
    "        rn1 = int(nbd*np.random.random()) #indice aleatorio do bit diferente\n",
    "        ind1 = lista2[rn1] #indice do bit diferente selecionado\n",
    "        \n",
    "        #alterando o bit selecionado no primeiro agente\n",
    "        if lista[ag1][ind1] == 1:\n",
    "            lista[ag1][ind1] = 0\n",
    "        else:\n",
    "            lista[ag1][ind1] = 1\n",
    "\n",
    "        #alterando o bit selecionado no segundo agente\n",
    "#         if lista[ag2][ind1] == 1:\n",
    "#             lista[ag2][ind1] = 0\n",
    "#         else:\n",
    "#             lista[ag2][ind1] = 1  \n",
    "\n",
    "    return lista            "
   ]
  },
  {
   "cell_type": "markdown",
   "metadata": {},
   "source": [
    "A fitness de um agente é definido como sendo o número de bits iguais a 1."
   ]
  },
  {
   "cell_type": "code",
   "execution_count": 5,
   "metadata": {},
   "outputs": [],
   "source": [
    "def calc_fitness(lista,ag):\n",
    "    N = len(lista[ag])\n",
    "    fit = 0\n",
    "    for i1 in range(N):\n",
    "        fit += lista[ag][i1]\n",
    "    return fit\n",
    "    "
   ]
  },
  {
   "cell_type": "code",
   "execution_count": 6,
   "metadata": {},
   "outputs": [],
   "source": [
    "def calc_fit_media(lista):\n",
    "    M = len(lista)\n",
    "    fit = 0.0\n",
    "    for i1 in range(M):\n",
    "        fit += float(calc_fitness(lista,i1))\n",
    "    return fit / float(M)"
   ]
  },
  {
   "cell_type": "markdown",
   "metadata": {},
   "source": [
    "Função que avalia se algum indivíduo chegou no máximo: todos os bits iguais a 1."
   ]
  },
  {
   "cell_type": "code",
   "execution_count": 37,
   "metadata": {},
   "outputs": [],
   "source": [
    "def avalia(lista):\n",
    "    flag = False\n",
    "    M = len(lista)\n",
    "    N = len(lista[0])\n",
    "    for i1 in range(M):\n",
    "        fit = calc_fitness(lista,i1)\n",
    "        if fit == N:\n",
    "            flag = True\n",
    "            break\n",
    "    return flag"
   ]
  },
  {
   "cell_type": "markdown",
   "metadata": {},
   "source": [
    "## Teste das funções"
   ]
  },
  {
   "cell_type": "markdown",
   "metadata": {},
   "source": [
    "Sistema: $M$ agentes cada um com uma string $\\phi$ de $N$ bits. Cada bit pode ser 0 ou 1. Inicialmente cada agente recebe uma string $\\phi$ aleatória: cada bit pode ser 0 ou 1 com igual probabilidade. "
   ]
  },
  {
   "cell_type": "code",
   "execution_count": null,
   "metadata": {},
   "outputs": [],
   "source": [
    "M = 10\n",
    "N = 10\n",
    "lista_phi = cria_cond_inicial(M,N)"
   ]
  },
  {
   "cell_type": "markdown",
   "metadata": {},
   "source": [
    "Cara das strings"
   ]
  },
  {
   "cell_type": "code",
   "execution_count": null,
   "metadata": {},
   "outputs": [],
   "source": [
    "for i1 in range(M):\n",
    "    print('string do agente',i1,':',lista_phi[i1])"
   ]
  },
  {
   "cell_type": "markdown",
   "metadata": {},
   "source": [
    "Efetuando a mutação em um agente aleatório."
   ]
  },
  {
   "cell_type": "code",
   "execution_count": null,
   "metadata": {},
   "outputs": [],
   "source": [
    "ag = int(M*np.random.random()) #agente aleatorio\n",
    "lista_phi = mutacao(lista_phi,ag) #funcao que faz mutacao no agente ag"
   ]
  },
  {
   "cell_type": "code",
   "execution_count": null,
   "metadata": {},
   "outputs": [],
   "source": [
    "for i1 in range(M):\n",
    "    print('string do agente',i1,':',lista_phi[i1])"
   ]
  },
  {
   "cell_type": "markdown",
   "metadata": {},
   "source": [
    "Fazendo o crossing over (interação) entre dois agentes aleatórios."
   ]
  },
  {
   "cell_type": "code",
   "execution_count": null,
   "metadata": {},
   "outputs": [],
   "source": [
    "ag1 = int(M*np.random.random()) #agente aleatorio\n",
    "ag2 = int(M*np.random.random()) #agente aleatorio\n",
    "lista_phi = crossing_over(lista_phi,ag1,ag2)"
   ]
  },
  {
   "cell_type": "markdown",
   "metadata": {},
   "source": [
    "Agentes selecionados para crossing over:"
   ]
  },
  {
   "cell_type": "code",
   "execution_count": null,
   "metadata": {},
   "outputs": [],
   "source": [
    "print('ag1:',ag1,'. ag2:',ag2 )"
   ]
  },
  {
   "cell_type": "code",
   "execution_count": null,
   "metadata": {},
   "outputs": [],
   "source": [
    "for i1 in range(M):\n",
    "    print('string do agente',i1,':',lista_phi[i1])"
   ]
  },
  {
   "cell_type": "markdown",
   "metadata": {},
   "source": [
    "Cálculo das fitness"
   ]
  },
  {
   "cell_type": "code",
   "execution_count": null,
   "metadata": {},
   "outputs": [],
   "source": [
    "for i1 in range(M):\n",
    "    fit = calc_fitness(lista_phi,i1)\n",
    "    print('fit do agente',i1,':',fit)"
   ]
  },
  {
   "cell_type": "code",
   "execution_count": null,
   "metadata": {},
   "outputs": [],
   "source": [
    "print(len(lista_phi))"
   ]
  },
  {
   "cell_type": "markdown",
   "metadata": {},
   "source": [
    "Fitness média da população"
   ]
  },
  {
   "cell_type": "code",
   "execution_count": null,
   "metadata": {},
   "outputs": [],
   "source": [
    "fitm = calc_fit_media(lista_phi)\n",
    "print(fitm)"
   ]
  },
  {
   "cell_type": "markdown",
   "metadata": {},
   "source": [
    "## Início da dinâmica"
   ]
  },
  {
   "cell_type": "markdown",
   "metadata": {},
   "source": [
    "Dinâmica temporal: em cada instante de tempo $M$ agentes serão sorteados e avaliados. Em cada avaliação o agente selecionado pode sofrer mutação com uma probabilidade $p$ ou sofrer crossing over com probabilidade $1-p$. No caso de crossing over outro agente é selecionado."
   ]
  },
  {
   "cell_type": "code",
   "execution_count": 26,
   "metadata": {},
   "outputs": [],
   "source": [
    "M = 30\n",
    "N = 10\n",
    "p = 0.2\n",
    "lista_phi = cria_cond_inicial(M,N)"
   ]
  },
  {
   "cell_type": "code",
   "execution_count": 8,
   "metadata": {},
   "outputs": [
    {
     "name": "stdout",
     "output_type": "stream",
     "text": [
      "string do agente 0 : [0 1 0 0 0 1 1 1 0 0]\n",
      "string do agente 1 : [0 1 0 0 0 1 0 1 1 1]\n",
      "string do agente 2 : [1 0 1 1 0 1 0 0 0 1]\n",
      "string do agente 3 : [0 0 0 0 1 1 1 1 0 0]\n",
      "string do agente 4 : [0 1 1 0 1 1 0 1 1 1]\n",
      "string do agente 5 : [1 0 0 0 1 0 0 0 0 1]\n",
      "string do agente 6 : [1 1 0 0 0 0 1 0 1 0]\n",
      "string do agente 7 : [0 0 1 1 0 1 1 0 1 0]\n",
      "string do agente 8 : [1 0 1 0 1 1 0 0 0 1]\n",
      "string do agente 9 : [0 0 0 0 0 1 1 0 0 0]\n"
     ]
    }
   ],
   "source": [
    "for i1 in range(M):\n",
    "    print('string do agente',i1,':',lista_phi[i1])"
   ]
  },
  {
   "cell_type": "code",
   "execution_count": 36,
   "metadata": {},
   "outputs": [],
   "source": [
    "for i2 in range(10):\n",
    "    fitm = calc_fit_media(lista_phi)\n",
    "    print(fitm)\n",
    "    for i1 in range(M):\n",
    "        ag1 = int(M*np.random.random()) #agente aleatorio    \n",
    "        rn = np.random.random() #numero aleatorio entre 0 e 1\n",
    "        if rn < p:\n",
    "            #ag1 vai sofrer mutacao\n",
    "            lista_phi = mutacao(lista_phi,ag1) #funcao que faz mutacao no agente ag\n",
    "        else:\n",
    "            #ag1 ira fazer crossing over com ag2\n",
    "            ag2 = int(M*np.random.random()) #agente aleatorio            \n",
    "            lista_phi = crossing_over(lista_phi,ag1,ag2)\n",
    "        \n",
    "            "
   ]
  },
  {
   "cell_type": "code",
   "execution_count": 41,
   "metadata": {},
   "outputs": [
    {
     "name": "stdout",
     "output_type": "stream",
     "text": [
      "153\n"
     ]
    }
   ],
   "source": [
    "flag = False\n",
    "tempo = 0\n",
    "while not flag:\n",
    "    tempo += 1\n",
    "    flag = avalia(lista_phi,)\n",
    "    for i1 in range(M):\n",
    "        ag1 = int(M*np.random.random()) #agente aleatorio    \n",
    "        rn = np.random.random() #numero aleatorio entre 0 e 1\n",
    "        if rn < p:\n",
    "            #ag1 vai sofrer mutacao\n",
    "            lista_phi = mutacao(lista_phi,ag1) #funcao que faz mutacao no agente ag\n",
    "        else:\n",
    "            #ag1 ira fazer crossing over com ag2\n",
    "            ag2 = int(M*np.random.random()) #agente aleatorio            \n",
    "            lista_phi = crossing_over(lista_phi,ag1,ag2)\n",
    "print(tempo)\n",
    "        \n",
    "            "
   ]
  },
  {
   "cell_type": "code",
   "execution_count": null,
   "metadata": {},
   "outputs": [],
   "source": []
  }
 ],
 "metadata": {
  "kernelspec": {
   "display_name": "Python 3",
   "language": "python",
   "name": "python3"
  },
  "language_info": {
   "codemirror_mode": {
    "name": "ipython",
    "version": 3
   },
   "file_extension": ".py",
   "mimetype": "text/x-python",
   "name": "python",
   "nbconvert_exporter": "python",
   "pygments_lexer": "ipython3",
   "version": "3.7.0"
  }
 },
 "nbformat": 4,
 "nbformat_minor": 2
}
